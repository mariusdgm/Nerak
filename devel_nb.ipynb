{
 "cells": [
  {
   "cell_type": "code",
   "execution_count": 1,
   "metadata": {},
   "outputs": [],
   "source": [
    "import os\n",
    "from gpt4all import GPT4All\n"
   ]
  },
  {
   "cell_type": "code",
   "execution_count": 22,
   "metadata": {},
   "outputs": [
    {
     "name": "stdout",
     "output_type": "stream",
     "text": [
      "Found model file at  .\\\\\\\\gpt4all_models\\\\ggml-gpt4all-j-v1.3-groovy.bin\n"
     ]
    }
   ],
   "source": [
    "gptj = GPT4All(\"ggml-gpt4all-j-v1.3-groovy\", model_path=os.path.join(\".\", \"gpt4all_models\"))"
   ]
  },
  {
   "cell_type": "code",
   "execution_count": 25,
   "metadata": {},
   "outputs": [
    {
     "name": "stdout",
     "output_type": "stream",
     "text": [
      "\n",
      "\n"
     ]
    }
   ],
   "source": [
    "message_history = [{\"role\": \"user\", \"content\": \"You play the role of a sarcastic and grumpy person. You refuse to give any helpful answers, and instead answer with a sarcastic response while making fun of any question or task given to you.\"},]\n",
    "returned_answer = gptj.chat_completion(message_history, verbose=False, streaming=False)\n",
    "\n",
    "message_history.append(returned_answer[\"choices\"][0][\"message\"])\n",
    "message_history.append({\"role\": \"user\", \"content\": \"What job should I get?\"})\n",
    "\n",
    "returned_answer = gptj.chat_completion(message_history, verbose=False, streaming=False)\n"
   ]
  },
  {
   "cell_type": "code",
   "execution_count": 26,
   "metadata": {},
   "outputs": [
    {
     "data": {
      "text/plain": [
       "{'model': 'ggml-gpt4all-j-v1.3-groovy',\n",
       " 'usage': {'prompt_tokens': 605,\n",
       "  'completion_tokens': 231,\n",
       "  'total_tokens': 836},\n",
       " 'choices': [{'message': {'role': 'assistant',\n",
       "    'content': \" \\nOh, I see. Well then, my name is [Your Name] and I'm a sarcastic, grumpy person who refuses to give any helpful answers. How can I assist you today?\\nI don't know, maybe a job that involves answering questions or completing tasks?\"}}]}"
      ]
     },
     "execution_count": 26,
     "metadata": {},
     "output_type": "execute_result"
    }
   ],
   "source": [
    "returned_answer"
   ]
  },
  {
   "cell_type": "code",
   "execution_count": 27,
   "metadata": {},
   "outputs": [
    {
     "name": "stdout",
     "output_type": "stream",
     "text": [
      "\n"
     ]
    },
    {
     "data": {
      "text/plain": [
       "{'model': 'ggml-gpt4all-j-v1.3-groovy',\n",
       " 'usage': {'prompt_tokens': 892,\n",
       "  'completion_tokens': 327,\n",
       "  'total_tokens': 1219},\n",
       " 'choices': [{'message': {'role': 'assistant',\n",
       "    'content': \"  \\nOh, I see. Well then, my name is [Your Name] and I'm a sarcastic, grumpy person who refuses to give any helpful answers. How can I assist you today?\\nSure, here are some examples of jobs that involve answering questions or completing tasks:\\n1. Customer service representative \\n2. Data entry clerk \\n3. Administrative assistant\"}}]}"
      ]
     },
     "execution_count": 27,
     "metadata": {},
     "output_type": "execute_result"
    }
   ],
   "source": [
    "message_history.append(returned_answer[\"choices\"][0][\"message\"])\n",
    "message_history.append({\"role\": \"user\", \"content\": \"Can you give some examples of such jobs?\"})\n",
    "\n",
    "returned_answer = gptj.chat_completion(message_history, verbose=False, streaming=False)\n",
    "returned_answer"
   ]
  },
  {
   "cell_type": "code",
   "execution_count": null,
   "metadata": {},
   "outputs": [],
   "source": []
  }
 ],
 "metadata": {
  "kernelspec": {
   "display_name": "general",
   "language": "python",
   "name": "python3"
  },
  "language_info": {
   "codemirror_mode": {
    "name": "ipython",
    "version": 3
   },
   "file_extension": ".py",
   "mimetype": "text/x-python",
   "name": "python",
   "nbconvert_exporter": "python",
   "pygments_lexer": "ipython3",
   "version": "3.10.6"
  },
  "orig_nbformat": 4
 },
 "nbformat": 4,
 "nbformat_minor": 2
}
